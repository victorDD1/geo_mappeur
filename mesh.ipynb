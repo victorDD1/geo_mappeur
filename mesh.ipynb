{
 "cells": [
  {
   "cell_type": "code",
   "execution_count": 14,
   "id": "sixth-least",
   "metadata": {},
   "outputs": [],
   "source": [
    "import numpy as np\n",
    "import pyvista as pv\n",
    "\n",
    "file_path = \"C:/Users/victo/Desktop/lon_44.555851-44.551782_lat_2.223562-2.231444_data.txt\""
   ]
  },
  {
   "cell_type": "code",
   "execution_count": 15,
   "id": "senior-panel",
   "metadata": {},
   "outputs": [
    {
     "name": "stdout",
     "output_type": "stream",
     "text": [
      "(3, 2500)\n",
      "[622.94633605 127.11963714 326.02      ]\n",
      "(2500,)\n"
     ]
    }
   ],
   "source": [
    "def read_text_file(file_path):\n",
    "    x, y, z = [], [], []\n",
    "    with open(file_path) as f:\n",
    "        for l in f.readlines():\n",
    "            l_split = l.replace('{', '').replace('}','').split(',')\n",
    "            x.append(float(l_split[0]))\n",
    "            y.append(float(l_split[1]))\n",
    "            z.append(float(l_split[2]))\n",
    "    f.close()\n",
    "    return np.array([x, y, z])\n",
    "\n",
    "arr = read_text_file(file_path)\n",
    "print(arr.shape)\n",
    "\n",
    "point = arr[:,32]\n",
    "print(point)\n",
    "\n",
    "x, y, z = arr[0,:], arr[1,:], arr[2,:]\n",
    "print(x.shape)"
   ]
  },
  {
   "cell_type": "code",
   "execution_count": 17,
   "id": "aea95a4c",
   "metadata": {},
   "outputs": [
    {
     "data": {
      "application/vnd.jupyter.widget-view+json": {
       "model_id": "e569f0ccce4d43aba429d5b8777faa36",
       "version_major": 2,
       "version_minor": 0
      },
      "text/plain": [
       "ViewInteractiveWidget(height=768, layout=Layout(height='auto', width='100%'), width=1024)"
      ]
     },
     "metadata": {},
     "output_type": "display_data"
    }
   ],
   "source": [
    "# Define a simple Gaussian surface\n",
    "\n",
    "x = arr[0,:]\n",
    "y = arr[1,:]\n",
    "z = arr[2,:]\n",
    "\n",
    "\n",
    "# Get the points as a 2D NumPy array (N by 3)\n",
    "points = np.c_[x, y, z]\n",
    "points[0:5, :]\n",
    "\n",
    "cloud = pv.PolyData(points)\n",
    "\n",
    "surf = cloud.delaunay_2d()\n",
    "surf.plot(show_edges=True)"
   ]
  },
  {
   "cell_type": "code",
   "execution_count": null,
   "id": "basic-housing",
   "metadata": {},
   "outputs": [],
   "source": [
    "l = ['{1 2 3}']\n",
    "l_split = l[0].replace('{', '').replace('}','').split(' ')\n",
    "print(type(l_split[0]))"
   ]
  },
  {
   "cell_type": "code",
   "execution_count": 17,
   "id": "f5c616aa",
   "metadata": {},
   "outputs": [
    {
     "name": "stdout",
     "output_type": "stream",
     "text": [
      "(100, 100)\n"
     ]
    },
    {
     "data": {
      "text/plain": [
       "array([[1.16621281, 1.76733963, 1.13922371, ..., 1.1847505 , 1.13757928,\n",
       "        2.37154776],\n",
       "       [2.40613294, 2.45498719, 1.27874442, ..., 2.54587838, 1.52555439,\n",
       "        1.34211799],\n",
       "       [1.61099646, 1.76437485, 2.64362386, ..., 2.63746608, 2.52931957,\n",
       "        1.76174899],\n",
       "       ...,\n",
       "       [2.32389838, 1.33380577, 1.53256394, ..., 1.21988694, 2.52771954,\n",
       "        1.37182626],\n",
       "       [1.24789157, 1.2632411 , 1.66100226, ..., 1.1092545 , 2.51209562,\n",
       "        2.01312806],\n",
       "       [1.45395637, 2.35987372, 1.87907601, ..., 1.48907025, 2.13552157,\n",
       "        1.40063697]])"
      ]
     },
     "execution_count": 17,
     "metadata": {},
     "output_type": "execute_result"
    }
   ],
   "source": [
    "r = np.random.random(10000).reshape(100,100)\n",
    "print(r.shape)\n",
    "np.exp(r)"
   ]
  },
  {
   "cell_type": "code",
   "execution_count": 22,
   "id": "1bfd36b1",
   "metadata": {},
   "outputs": [
    {
     "name": "stdout",
     "output_type": "stream",
     "text": [
      "oui\n",
      "oui\n",
      "baguette\n"
     ]
    }
   ],
   "source": [
    "a = 'oui oui baguette'\n",
    "a = a.replace(' ', '\\n')\n",
    "print(a)"
   ]
  },
  {
   "cell_type": "code",
   "execution_count": null,
   "id": "f36b7648",
   "metadata": {},
   "outputs": [],
   "source": []
  }
 ],
 "metadata": {
  "kernelspec": {
   "display_name": "Python 3",
   "language": "python",
   "name": "python3"
  },
  "language_info": {
   "codemirror_mode": {
    "name": "ipython",
    "version": 3
   },
   "file_extension": ".py",
   "mimetype": "text/x-python",
   "name": "python",
   "nbconvert_exporter": "python",
   "pygments_lexer": "ipython3",
   "version": "3.9.0"
  }
 },
 "nbformat": 4,
 "nbformat_minor": 5
}
